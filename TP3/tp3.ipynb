{
 "cells": [
  {
   "cell_type": "markdown",
   "metadata": {},
   "source": [
    "# TP3\n"
   ]
  },
  {
   "cell_type": "code",
   "execution_count": null,
   "metadata": {},
   "outputs": [],
   "source": [
    "import numpy as np\n",
    "import matplotlib.pyplot as plt\n",
    "import seaborn as sns\n",
    "from sklearn.decomposition import PCA\n",
    "import matplotlib.pyplot as plt\n",
    "from scipy.spatial.distance import pdist, squareform"
   ]
  },
  {
   "cell_type": "markdown",
   "metadata": {},
   "source": [
    "## Exercice 3\n"
   ]
  },
  {
   "cell_type": "markdown",
   "metadata": {},
   "source": [
    "### Q.1 : Créer la matrice\n"
   ]
  },
  {
   "cell_type": "code",
   "execution_count": null,
   "metadata": {},
   "outputs": [],
   "source": [
    "# Paramètres\n",
    "n = 100  # nombre de réalisations\n",
    "D = 2  # dimension\n",
    "\n",
    "# Générer une matrice aléatoire n x D avec des valeurs uniformément distribuées\n",
    "matrix = np.random.rand(n, D)\n",
    "\n",
    "# Afficher un extrait de la matrice\n",
    "matrix[:5]  # 5 premières lignes"
   ]
  },
  {
   "cell_type": "markdown",
   "metadata": {},
   "source": [
    "### Q.2 : Calculer la norme\n"
   ]
  },
  {
   "cell_type": "code",
   "execution_count": null,
   "metadata": {},
   "outputs": [],
   "source": [
    "# Calculer la norme euclidienne de chaque observation (chaque ligne)\n",
    "norms = np.linalg.norm(matrix, axis=1)\n",
    "\n",
    "# Afficher les premières normes pour vérifier\n",
    "norms[:5]"
   ]
  },
  {
   "cell_type": "markdown",
   "metadata": {},
   "source": [
    "### Q.3 : Créer les graphiques\n"
   ]
  },
  {
   "cell_type": "code",
   "execution_count": null,
   "metadata": {},
   "outputs": [],
   "source": [
    "# Créer un histogramme\n",
    "plt.figure(figsize=(10, 6))\n",
    "plt.hist(norms, bins=30, alpha=0.6, color=\"b\", edgecolor=\"black\")\n",
    "plt.title(\"Histogramme des Normes\")\n",
    "plt.xlabel(\"Norme\")\n",
    "plt.ylabel(\"Fréquence\")\n",
    "plt.show()"
   ]
  },
  {
   "cell_type": "code",
   "execution_count": null,
   "metadata": {},
   "outputs": [],
   "source": [
    "# Créer une KDE (estimation par noyau)\n",
    "plt.figure(figsize=(10, 6))\n",
    "sns.kdeplot(norms, color=\"r\")\n",
    "plt.title(\"KDE des Normes\")\n",
    "plt.xlabel(\"Norme\")\n",
    "plt.ylabel(\"Densité\")\n",
    "plt.show()"
   ]
  },
  {
   "cell_type": "markdown",
   "metadata": {},
   "source": [
    "### Q.4 : Hausse des dimensions\n"
   ]
  },
  {
   "cell_type": "code",
   "execution_count": null,
   "metadata": {},
   "outputs": [],
   "source": [
    "# Paramètres\n",
    "n = 10**5  # nombre de réalisations\n",
    "dimensions = [2, 5, 10, 20, 50, 100]  # dimensions à tester"
   ]
  },
  {
   "cell_type": "code",
   "execution_count": null,
   "metadata": {},
   "outputs": [],
   "source": [
    "# Créer une figure avec 2 lignes et 3 colonnes\n",
    "fig, axes = plt.subplots(2, 3, figsize=(18, 12))\n",
    "axes = axes.flatten()  # Pour facilement itérer sur chaque sous-graphe\n",
    "\n",
    "# Boucle sur les différentes dimensions\n",
    "for i, D in enumerate(dimensions):\n",
    "    # Générer une matrice aléatoire n x D\n",
    "    matrix = np.random.rand(n, D)\n",
    "\n",
    "    # Calculer la norme euclidienne de chaque observation\n",
    "    norms = np.linalg.norm(matrix, axis=1)\n",
    "\n",
    "    # Tracer l'histogramme et KDE dans le sous-graphe correspondant\n",
    "    sns.histplot(norms, bins=30, kde=True, ax=axes[i], color=\"b\", edgecolor=\"black\")\n",
    "    axes[i].set_title(f\"Dimension = {D}\")\n",
    "    axes[i].set_xlabel(\"Norme\")\n",
    "    axes[i].set_ylabel(\"Fréquence\")\n",
    "\n",
    "# Ajuster l'espacement des sous-graphiques\n",
    "plt.tight_layout()\n",
    "\n",
    "# Sauvegarder l'image avec tous les graphiques\n",
    "plt.savefig(\"resultats/normes.png\")\n",
    "plt.show()"
   ]
  },
  {
   "cell_type": "code",
   "execution_count": null,
   "metadata": {},
   "outputs": [],
   "source": [
    "# Créer une figure\n",
    "plt.figure(figsize=(10, 6))\n",
    "colors = [\"b\", \"g\", \"r\", \"c\", \"m\", \"y\"]  # couleurs pour chaque dimension\n",
    "\n",
    "# Boucle sur les différentes dimensions pour tracer la KDE de chaque dimension\n",
    "for i, D in enumerate(dimensions):\n",
    "    # Générer une matrice aléatoire n x D\n",
    "    matrix = np.random.rand(n, D)\n",
    "\n",
    "    # Calculer la norme euclidienne de chaque observation\n",
    "    norms = np.linalg.norm(matrix, axis=1)\n",
    "\n",
    "    # Tracer la KDE pour chaque dimension avec une couleur différente\n",
    "    sns.kdeplot(norms, color=colors[i], label=f\"D = {D}\")\n",
    "\n",
    "# Ajouter le titre et les légendes\n",
    "plt.title(\"Comparaison des distributions des normes pour différentes dimensions\")\n",
    "plt.xlabel(\"Norme\")\n",
    "plt.ylabel(\"Densité\")\n",
    "plt.legend()\n",
    "\n",
    "# Afficher le graphique\n",
    "plt.savefig(\"resultats/comparaison_normes.png\")\n",
    "plt.show()"
   ]
  },
  {
   "cell_type": "markdown",
   "metadata": {},
   "source": [
    "### Q.5 : Comment la répartition des normes évolue-t-elle avec l'incrément de D ?\n",
    "\n",
    "À mesure que la dimension D augmente, on observe un décalage dans la répartition des normes. Pour des petites dimensions, les normes sont concentrées plus près de l'origine avec une dispersion plus large. Cependant, lorsque D augmente, les normes deviennent plus concentrées autour d'une moyenne plus élevée, et la dispersion diminue. Dans les dimensions plus élevées, les vecteurs aléatoires ont tendance à avoir une longueur plus stable, et les normes se concentrent autour de la racine carrée de la dimension D. Ainsi, la distance moyenne entre les points augmente avec D.\n"
   ]
  },
  {
   "cell_type": "markdown",
   "metadata": {},
   "source": [
    "## Exercice 5\n"
   ]
  },
  {
   "cell_type": "markdown",
   "metadata": {},
   "source": [
    "### Etape 1\n"
   ]
  },
  {
   "cell_type": "code",
   "execution_count": null,
   "metadata": {},
   "outputs": [],
   "source": [
    "# Coordonnées des 10 sensors\n",
    "sensors = np.array(\n",
    "    [\n",
    "        [0.026, 0.241, 0.026],\n",
    "        [0.236, 0.193, -0.913],\n",
    "        [-0.653, 0.969, -0.700],\n",
    "        [0.310, 0.094, 0.876],\n",
    "        [0.507, 0.756, 0.216],\n",
    "        [-0.270, -0.978, -0.739],\n",
    "        [-0.466, -0.574, 0.556],\n",
    "        [-0.140, -0.502, -0.155],\n",
    "        [0.353, -0.281, 0.431],\n",
    "        [-0.473, 0.993, 0.411],\n",
    "    ]\n",
    ")\n",
    "\n",
    "\n",
    "# Fonction pour générer les données\n",
    "def generateData(n):\n",
    "    \"\"\"\n",
    "    Génère un jeu de données de taille n selon le modèle 3-sensor.\n",
    "    Chaque point est représenté par ses distances aux 10 capteurs.\n",
    "    \"\"\"\n",
    "    # Générer n points dans le cube unité [-1, 1]^3\n",
    "    points = np.random.uniform(low=-1, high=1, size=(n, 3))\n",
    "\n",
    "    # Calculer les distances aux capteurs\n",
    "    distances = np.zeros((n, len(sensors)))\n",
    "\n",
    "    for i, point in enumerate(points):\n",
    "        distances[i] = np.linalg.norm(sensors - point, axis=1)  # Distances aux capteurs\n",
    "\n",
    "    return distances\n",
    "\n",
    "\n",
    "# Générer les trois jeux de données\n",
    "data_100 = generateData(100)\n",
    "data_1000 = generateData(1000)\n",
    "data_10000 = generateData(10000)\n",
    "\n",
    "# Affichage pour vérifier\n",
    "print(f\"Jeu de données   100 : {data_100.shape}\")\n",
    "print(f\"Jeu de données  1000 : {data_1000.shape}\")\n",
    "print(f\"Jeu de données 10000 : {data_10000.shape}\")"
   ]
  },
  {
   "cell_type": "code",
   "execution_count": null,
   "metadata": {},
   "outputs": [],
   "source": [
    "def perform_pca(data, n_components=10):\n",
    "    \"\"\"\n",
    "    Effectue l'ACP et retourne les variances expliquées.\n",
    "    \"\"\"\n",
    "    pca = PCA(n_components=n_components)\n",
    "    pca.fit(data)\n",
    "    return pca.explained_variance_ratio_\n",
    "\n",
    "\n",
    "# Réaliser l'ACP sur les trois jeux de données\n",
    "variance_100 = perform_pca(data_100)\n",
    "variance_1000 = perform_pca(data_1000)\n",
    "variance_10000 = perform_pca(data_10000)"
   ]
  },
  {
   "cell_type": "code",
   "execution_count": null,
   "metadata": {},
   "outputs": [],
   "source": [
    "# Tracer les variances expliquées pour chaque taille de données\n",
    "plt.figure(figsize=(10, 6))\n",
    "plt.plot(range(1, 11), variance_100, marker=\"o\", label=\"n = 100\")\n",
    "plt.plot(range(1, 11), variance_1000, marker=\"o\", label=\"n = 1000\")\n",
    "plt.plot(range(1, 11), variance_10000, marker=\"o\", label=\"n = 10000\")\n",
    "plt.title(\"Proportion de variance expliquée par ACP\")\n",
    "plt.xlabel(\"Composante principale\")\n",
    "plt.ylabel(\"Proportion de variance expliquée\")\n",
    "plt.yscale(\"log\")\n",
    "plt.legend()\n",
    "plt.grid(True)\n",
    "plt.show()"
   ]
  },
  {
   "cell_type": "code",
   "execution_count": null,
   "metadata": {},
   "outputs": [],
   "source": [
    "def correlation_dimension(data):\n",
    "    \"\"\"\n",
    "    Calcule l'estimation de la dimension intrinsèque basée sur la corrélation des distances.\n",
    "    \"\"\"\n",
    "    # Calculer la matrice des distances entre les points\n",
    "    distances = squareform(pdist(data))  # Calcul des distances entre tous les points\n",
    "    \n",
    "    # On calcule la distance maximale et minimale\n",
    "    d_min = np.min(distances[distances > 0])  # Éviter les 0 (distances à soi-même)\n",
    "    d_max = np.max(distances)\n",
    "    \n",
    "    # Créer une grille de distances log-échelonnées\n",
    "    n_bins = 100\n",
    "    bins = np.logspace(np.log10(d_min), np.log10(d_max), n_bins)\n",
    "    \n",
    "    # Compter le nombre de distances dans chaque intervalle\n",
    "    counts = np.zeros(n_bins - 1)\n",
    "    for i in range(n_bins - 1):\n",
    "        counts[i] = np.sum((distances >= bins[i]) & (distances < bins[i+1]))\n",
    "    \n",
    "    # Estimation de la dimensionnalité par corrélation\n",
    "    log_counts = np.log(counts[counts > 0])  # Éliminer les zéros\n",
    "    log_bins = np.log(bins[1:len(log_counts)+1])  # Correspond aux bins utilisés\n",
    "    \n",
    "    # Régression linéaire pour estimer la dimension\n",
    "    slope, _ = np.polyfit(log_bins, log_counts, 1)\n",
    "    \n",
    "    return slope\n"
   ]
  },
  {
   "cell_type": "code",
   "execution_count": null,
   "metadata": {},
   "outputs": [],
   "source": [
    "# Tester avec les données générées\n",
    "dim_est_100 = correlation_dimension(data_100)\n",
    "dim_est_1000 = correlation_dimension(data_1000)\n",
    "dim_est_10000 = correlation_dimension(data_10000)\n",
    "\n",
    "# Afficher les résultats\n",
    "print(f\"Estimation de la dimension intrinsèque pour n =   100: {dim_est_100}\")\n",
    "print(f\"Estimation de la dimension intrinsèque pour n =  1000: {dim_est_1000}\")\n",
    "print(f\"Estimation de la dimension intrinsèque pour n = 10000: {dim_est_10000}\")"
   ]
  }
 ],
 "metadata": {
  "kernelspec": {
   "display_name": "Python 3",
   "language": "python",
   "name": "python3"
  },
  "language_info": {
   "codemirror_mode": {
    "name": "ipython",
    "version": 3
   },
   "file_extension": ".py",
   "mimetype": "text/x-python",
   "name": "python",
   "nbconvert_exporter": "python",
   "pygments_lexer": "ipython3",
   "version": "3.12.6"
  }
 },
 "nbformat": 4,
 "nbformat_minor": 2
}
